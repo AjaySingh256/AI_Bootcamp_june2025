{
  "nbformat": 4,
  "nbformat_minor": 0,
  "metadata": {
    "colab": {
      "provenance": []
    },
    "kernelspec": {
      "name": "python3",
      "display_name": "Python 3"
    },
    "language_info": {
      "name": "python"
    }
  },
  "cells": [
    {
      "cell_type": "code",
      "source": [
        "age = 13\n",
        "name = \"AJAY\"\n",
        "\n",
        "print(\"AJAY\")"
      ],
      "metadata": {
        "colab": {
          "base_uri": "https://localhost:8080/"
        },
        "id": "VhNDpX9zi1ax",
        "outputId": "a0d89611-a57c-4b71-b8a1-ad642e967ca0"
      },
      "execution_count": 9,
      "outputs": [
        {
          "output_type": "stream",
          "name": "stdout",
          "text": [
            "AJAY\n"
          ]
        }
      ]
    },
    {
      "cell_type": "code",
      "execution_count": 2,
      "metadata": {
        "colab": {
          "base_uri": "https://localhost:8080/"
        },
        "id": "6kIzel5Cci_i",
        "outputId": "7f713ce1-b1c1-408d-deae-506ecb824f13"
      },
      "outputs": [
        {
          "output_type": "stream",
          "name": "stdout",
          "text": [
            "hello world\n",
            "here\n"
          ]
        }
      ],
      "source": [
        "print(\"hello world\")\n",
        "\n",
        "print(\"here\")"
      ]
    },
    {
      "cell_type": "code",
      "source": [
        "print(\"mango\")"
      ],
      "metadata": {
        "colab": {
          "base_uri": "https://localhost:8080/"
        },
        "id": "yrUaIdEoeDRg",
        "outputId": "d2bfe27a-2ad0-4d70-cf16-a7cbbdf2f0ad"
      },
      "execution_count": 3,
      "outputs": [
        {
          "output_type": "stream",
          "name": "stdout",
          "text": [
            "mango\n"
          ]
        }
      ]
    }
  ]
}